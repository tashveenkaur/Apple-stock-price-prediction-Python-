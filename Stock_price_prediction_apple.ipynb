{
  "cells": [
    {
      "cell_type": "code",
      "execution_count": 23,
      "metadata": {
        "id": "mh_WgldFC9ej"
      },
      "outputs": [],
      "source": [
        "import os \n",
        "import numpy as np\n",
        "import pandas as pd\n",
        "import matplotlib.pyplot as plt\n",
        "%matplotlib inline"
      ]
    },
    {
      "cell_type": "code",
      "execution_count": 24,
      "metadata": {
        "colab": {
          "base_uri": "https://localhost:8080/",
          "height": 204
        },
        "id": "rY2r57BIC9ek",
        "outputId": "a4c82373-23dd-4a8d-c91c-3594b66fd9b5"
      },
      "outputs": [
        {
          "output_type": "execute_result",
          "data": {
            "text/plain": [
              "         Date       Open       High        Low      Close  Adj Close  \\\n",
              "0  2012-01-03  14.621429  14.732143  14.607143  14.686786  12.519279   \n",
              "1  2012-01-04  14.642857  14.810000  14.617143  14.765714  12.586558   \n",
              "2  2012-01-05  14.819643  14.948214  14.738214  14.929643  12.726295   \n",
              "3  2012-01-06  14.991786  15.098214  14.972143  15.085714  12.859333   \n",
              "4  2012-01-09  15.196429  15.276786  15.048214  15.061786  12.838934   \n",
              "\n",
              "      Volume  \n",
              "0  302220800  \n",
              "1  260022000  \n",
              "2  271269600  \n",
              "3  318292800  \n",
              "4  394024400  "
            ],
            "text/html": [
              "\n",
              "  <div id=\"df-124008dd-7440-4cf0-b48e-238119d48509\">\n",
              "    <div class=\"colab-df-container\">\n",
              "      <div>\n",
              "<style scoped>\n",
              "    .dataframe tbody tr th:only-of-type {\n",
              "        vertical-align: middle;\n",
              "    }\n",
              "\n",
              "    .dataframe tbody tr th {\n",
              "        vertical-align: top;\n",
              "    }\n",
              "\n",
              "    .dataframe thead th {\n",
              "        text-align: right;\n",
              "    }\n",
              "</style>\n",
              "<table border=\"1\" class=\"dataframe\">\n",
              "  <thead>\n",
              "    <tr style=\"text-align: right;\">\n",
              "      <th></th>\n",
              "      <th>Date</th>\n",
              "      <th>Open</th>\n",
              "      <th>High</th>\n",
              "      <th>Low</th>\n",
              "      <th>Close</th>\n",
              "      <th>Adj Close</th>\n",
              "      <th>Volume</th>\n",
              "    </tr>\n",
              "  </thead>\n",
              "  <tbody>\n",
              "    <tr>\n",
              "      <th>0</th>\n",
              "      <td>2012-01-03</td>\n",
              "      <td>14.621429</td>\n",
              "      <td>14.732143</td>\n",
              "      <td>14.607143</td>\n",
              "      <td>14.686786</td>\n",
              "      <td>12.519279</td>\n",
              "      <td>302220800</td>\n",
              "    </tr>\n",
              "    <tr>\n",
              "      <th>1</th>\n",
              "      <td>2012-01-04</td>\n",
              "      <td>14.642857</td>\n",
              "      <td>14.810000</td>\n",
              "      <td>14.617143</td>\n",
              "      <td>14.765714</td>\n",
              "      <td>12.586558</td>\n",
              "      <td>260022000</td>\n",
              "    </tr>\n",
              "    <tr>\n",
              "      <th>2</th>\n",
              "      <td>2012-01-05</td>\n",
              "      <td>14.819643</td>\n",
              "      <td>14.948214</td>\n",
              "      <td>14.738214</td>\n",
              "      <td>14.929643</td>\n",
              "      <td>12.726295</td>\n",
              "      <td>271269600</td>\n",
              "    </tr>\n",
              "    <tr>\n",
              "      <th>3</th>\n",
              "      <td>2012-01-06</td>\n",
              "      <td>14.991786</td>\n",
              "      <td>15.098214</td>\n",
              "      <td>14.972143</td>\n",
              "      <td>15.085714</td>\n",
              "      <td>12.859333</td>\n",
              "      <td>318292800</td>\n",
              "    </tr>\n",
              "    <tr>\n",
              "      <th>4</th>\n",
              "      <td>2012-01-09</td>\n",
              "      <td>15.196429</td>\n",
              "      <td>15.276786</td>\n",
              "      <td>15.048214</td>\n",
              "      <td>15.061786</td>\n",
              "      <td>12.838934</td>\n",
              "      <td>394024400</td>\n",
              "    </tr>\n",
              "  </tbody>\n",
              "</table>\n",
              "</div>\n",
              "      <button class=\"colab-df-convert\" onclick=\"convertToInteractive('df-124008dd-7440-4cf0-b48e-238119d48509')\"\n",
              "              title=\"Convert this dataframe to an interactive table.\"\n",
              "              style=\"display:none;\">\n",
              "        \n",
              "  <svg xmlns=\"http://www.w3.org/2000/svg\" height=\"24px\"viewBox=\"0 0 24 24\"\n",
              "       width=\"24px\">\n",
              "    <path d=\"M0 0h24v24H0V0z\" fill=\"none\"/>\n",
              "    <path d=\"M18.56 5.44l.94 2.06.94-2.06 2.06-.94-2.06-.94-.94-2.06-.94 2.06-2.06.94zm-11 1L8.5 8.5l.94-2.06 2.06-.94-2.06-.94L8.5 2.5l-.94 2.06-2.06.94zm10 10l.94 2.06.94-2.06 2.06-.94-2.06-.94-.94-2.06-.94 2.06-2.06.94z\"/><path d=\"M17.41 7.96l-1.37-1.37c-.4-.4-.92-.59-1.43-.59-.52 0-1.04.2-1.43.59L10.3 9.45l-7.72 7.72c-.78.78-.78 2.05 0 2.83L4 21.41c.39.39.9.59 1.41.59.51 0 1.02-.2 1.41-.59l7.78-7.78 2.81-2.81c.8-.78.8-2.07 0-2.86zM5.41 20L4 18.59l7.72-7.72 1.47 1.35L5.41 20z\"/>\n",
              "  </svg>\n",
              "      </button>\n",
              "      \n",
              "  <style>\n",
              "    .colab-df-container {\n",
              "      display:flex;\n",
              "      flex-wrap:wrap;\n",
              "      gap: 12px;\n",
              "    }\n",
              "\n",
              "    .colab-df-convert {\n",
              "      background-color: #E8F0FE;\n",
              "      border: none;\n",
              "      border-radius: 50%;\n",
              "      cursor: pointer;\n",
              "      display: none;\n",
              "      fill: #1967D2;\n",
              "      height: 32px;\n",
              "      padding: 0 0 0 0;\n",
              "      width: 32px;\n",
              "    }\n",
              "\n",
              "    .colab-df-convert:hover {\n",
              "      background-color: #E2EBFA;\n",
              "      box-shadow: 0px 1px 2px rgba(60, 64, 67, 0.3), 0px 1px 3px 1px rgba(60, 64, 67, 0.15);\n",
              "      fill: #174EA6;\n",
              "    }\n",
              "\n",
              "    [theme=dark] .colab-df-convert {\n",
              "      background-color: #3B4455;\n",
              "      fill: #D2E3FC;\n",
              "    }\n",
              "\n",
              "    [theme=dark] .colab-df-convert:hover {\n",
              "      background-color: #434B5C;\n",
              "      box-shadow: 0px 1px 3px 1px rgba(0, 0, 0, 0.15);\n",
              "      filter: drop-shadow(0px 1px 2px rgba(0, 0, 0, 0.3));\n",
              "      fill: #FFFFFF;\n",
              "    }\n",
              "  </style>\n",
              "\n",
              "      <script>\n",
              "        const buttonEl =\n",
              "          document.querySelector('#df-124008dd-7440-4cf0-b48e-238119d48509 button.colab-df-convert');\n",
              "        buttonEl.style.display =\n",
              "          google.colab.kernel.accessAllowed ? 'block' : 'none';\n",
              "\n",
              "        async function convertToInteractive(key) {\n",
              "          const element = document.querySelector('#df-124008dd-7440-4cf0-b48e-238119d48509');\n",
              "          const dataTable =\n",
              "            await google.colab.kernel.invokeFunction('convertToInteractive',\n",
              "                                                     [key], {});\n",
              "          if (!dataTable) return;\n",
              "\n",
              "          const docLinkHtml = 'Like what you see? Visit the ' +\n",
              "            '<a target=\"_blank\" href=https://colab.research.google.com/notebooks/data_table.ipynb>data table notebook</a>'\n",
              "            + ' to learn more about interactive tables.';\n",
              "          element.innerHTML = '';\n",
              "          dataTable['output_type'] = 'display_data';\n",
              "          await google.colab.output.renderOutput(dataTable, element);\n",
              "          const docLink = document.createElement('div');\n",
              "          docLink.innerHTML = docLinkHtml;\n",
              "          element.appendChild(docLink);\n",
              "        }\n",
              "      </script>\n",
              "    </div>\n",
              "  </div>\n",
              "  "
            ]
          },
          "metadata": {},
          "execution_count": 24
        }
      ],
      "source": [
        "#loading the traning dataset and using head function to see the first five values of the data \n",
        "Apple_train=pd.read_csv(\"Apple_training_dataset.csv\")\n",
        "Apple_train.head()"
      ]
    },
    {
      "cell_type": "code",
      "source": [],
      "metadata": {
        "id": "UEJO91-iGZf2"
      },
      "execution_count": null,
      "outputs": []
    },
    {
      "cell_type": "code",
      "execution_count": 25,
      "metadata": {
        "colab": {
          "base_uri": "https://localhost:8080/"
        },
        "id": "AhxrUhYdC9em",
        "outputId": "ea0e87bd-a14d-4d4f-b6b4-eb60c164cef2"
      },
      "outputs": [
        {
          "output_type": "stream",
          "name": "stdout",
          "text": [
            "<class 'pandas.core.frame.DataFrame'>\n",
            "RangeIndex: 2264 entries, 0 to 2263\n",
            "Data columns (total 7 columns):\n",
            " #   Column     Non-Null Count  Dtype  \n",
            "---  ------     --------------  -----  \n",
            " 0   Date       2264 non-null   object \n",
            " 1   Open       2264 non-null   float64\n",
            " 2   High       2264 non-null   float64\n",
            " 3   Low        2264 non-null   float64\n",
            " 4   Close      2264 non-null   float64\n",
            " 5   Adj Close  2264 non-null   float64\n",
            " 6   Volume     2264 non-null   int64  \n",
            "dtypes: float64(5), int64(1), object(1)\n",
            "memory usage: 123.9+ KB\n"
          ]
        }
      ],
      "source": [
        "#getting info on the Columns\n",
        "Apple_train.info()"
      ]
    },
    {
      "cell_type": "code",
      "execution_count": 26,
      "metadata": {
        "colab": {
          "base_uri": "https://localhost:8080/"
        },
        "id": "dqPNWyb0C9em",
        "outputId": "c1ae3f7f-704c-43ef-b21c-54767577646a"
      },
      "outputs": [
        {
          "output_type": "stream",
          "name": "stdout",
          "text": [
            "[[ 14.686786]\n",
            " [ 14.765714]\n",
            " [ 14.929643]\n",
            " ...\n",
            " [136.690002]\n",
            " [134.869995]\n",
            " [133.720001]]\n",
            "(2264, 1)\n"
          ]
        }
      ],
      "source": [
        "#using the closing price to train the model \n",
        "\n",
        "Apple_training_set=Apple_train.iloc[:,4:5].values\n",
        "print(Apple_training_set)\n",
        "print(Apple_training_set.shape)"
      ]
    },
    {
      "cell_type": "code",
      "execution_count": 27,
      "metadata": {
        "colab": {
          "base_uri": "https://localhost:8080/"
        },
        "id": "RjPkfw62C9en",
        "outputId": "e6d679ec-da26-4542-c780-f3e22e3be75b"
      },
      "outputs": [
        {
          "output_type": "execute_result",
          "data": {
            "text/plain": [
              "array([[0.00602306],\n",
              "       [0.0066661 ],\n",
              "       [0.00800165],\n",
              "       ...,\n",
              "       [1.        ],\n",
              "       [0.98517215],\n",
              "       [0.97580299]])"
            ]
          },
          "metadata": {},
          "execution_count": 27
        }
      ],
      "source": [
        "#Normalizinfg the data      \n",
        "\n",
        "\n",
        "from sklearn.preprocessing import MinMaxScaler\n",
        "\n",
        "scaler=MinMaxScaler(feature_range=(0,1))\n",
        "scaled_training_set=scaler.fit_transform(Apple_training_set)\n",
        "scaled_training_set"
      ]
    },
    {
      "cell_type": "code",
      "execution_count": 28,
      "metadata": {
        "id": "Pw3dC69sC9en"
      },
      "outputs": [],
      "source": [
        "#Creating the training dataset\n",
        "X_train=[]\n",
        "Y_train=[]\n",
        "for i in range(60,2264):\n",
        "    X_train.append(scaled_training_set[i-60:i,0])\n",
        "    Y_train.append(scaled_training_set[i,0])\n",
        "\n",
        "X_train=np.array(X_train)\n",
        "\n",
        "Y_train=np.array(Y_train)"
      ]
    },
    {
      "cell_type": "code",
      "execution_count": 29,
      "metadata": {
        "colab": {
          "base_uri": "https://localhost:8080/"
        },
        "id": "g2iOUDYmC9en",
        "outputId": "02dadae3-229d-49fb-e9b2-082f4ae75dd4"
      },
      "outputs": [
        {
          "output_type": "execute_result",
          "data": {
            "text/plain": [
              "(2204, 60, 1)"
            ]
          },
          "metadata": {},
          "execution_count": 29
        }
      ],
      "source": [
        "X_train=np.reshape(X_train,(X_train.shape[0],X_train.shape[1],1))\n",
        "X_train.shape"
      ]
    },
    {
      "cell_type": "code",
      "execution_count": 30,
      "metadata": {
        "id": "b7QJ4HcmC9eo"
      },
      "outputs": [],
      "source": [
        "from keras.models import Sequential\n",
        "from keras.layers import LSTM\n",
        "from keras.layers import Dense \n",
        "from keras.layers import Dropout\n"
      ]
    },
    {
      "cell_type": "code",
      "execution_count": 31,
      "metadata": {
        "id": "wlw4QizDC9eq"
      },
      "outputs": [],
      "source": [
        "reg= Sequential()\n",
        "\n",
        "reg.add(LSTM(units= 50,return_sequences= True, input_shape=(X_train.shape[1],1)))\n",
        "reg.add(Dropout(0.2))\n",
        "\n",
        "reg.add(LSTM(units= 50,return_sequences=True))\n",
        "reg.add(Dropout(0.2))\n",
        "\n",
        "\n",
        "reg.add(LSTM(units= 50,return_sequences=True))\n",
        "reg.add(Dropout(0.2))\n",
        "\n",
        "\n",
        "reg.add(LSTM(units= 50))\n",
        "reg.add(Dropout(0.2))\n",
        "\n",
        "reg.add(Dense(units=1))\n"
      ]
    },
    {
      "cell_type": "code",
      "execution_count": 32,
      "metadata": {
        "colab": {
          "base_uri": "https://localhost:8080/"
        },
        "id": "RdujansoC9eq",
        "outputId": "5e2a7b77-eb34-4be5-92fd-3f56714e9f33"
      },
      "outputs": [
        {
          "output_type": "stream",
          "name": "stdout",
          "text": [
            "Epoch 1/100\n",
            "63/63 [==============================] - 18s 137ms/step - loss: 0.0068\n",
            "Epoch 2/100\n",
            "63/63 [==============================] - 8s 123ms/step - loss: 0.0021\n",
            "Epoch 3/100\n",
            "63/63 [==============================] - 8s 122ms/step - loss: 0.0019\n",
            "Epoch 4/100\n",
            "63/63 [==============================] - 8s 125ms/step - loss: 0.0014\n",
            "Epoch 5/100\n",
            "63/63 [==============================] - 9s 137ms/step - loss: 0.0013\n",
            "Epoch 6/100\n",
            "63/63 [==============================] - 8s 130ms/step - loss: 0.0016\n",
            "Epoch 7/100\n",
            "63/63 [==============================] - 8s 132ms/step - loss: 0.0012\n",
            "Epoch 8/100\n",
            "63/63 [==============================] - 9s 135ms/step - loss: 0.0012\n",
            "Epoch 9/100\n",
            "63/63 [==============================] - 10s 162ms/step - loss: 0.0013\n",
            "Epoch 10/100\n",
            "63/63 [==============================] - 10s 158ms/step - loss: 0.0014\n",
            "Epoch 11/100\n",
            "63/63 [==============================] - 9s 136ms/step - loss: 0.0010\n",
            "Epoch 12/100\n",
            "63/63 [==============================] - 8s 125ms/step - loss: 8.7897e-04\n",
            "Epoch 13/100\n",
            "63/63 [==============================] - 8s 134ms/step - loss: 9.4778e-04\n",
            "Epoch 14/100\n",
            "63/63 [==============================] - 8s 125ms/step - loss: 0.0011\n",
            "Epoch 15/100\n",
            "63/63 [==============================] - 8s 131ms/step - loss: 0.0011\n",
            "Epoch 16/100\n",
            "63/63 [==============================] - 9s 138ms/step - loss: 8.2330e-04\n",
            "Epoch 17/100\n",
            "63/63 [==============================] - 8s 132ms/step - loss: 9.0023e-04\n",
            "Epoch 18/100\n",
            "63/63 [==============================] - 8s 129ms/step - loss: 9.6828e-04\n",
            "Epoch 19/100\n",
            "63/63 [==============================] - 8s 122ms/step - loss: 8.8169e-04\n",
            "Epoch 20/100\n",
            "63/63 [==============================] - 8s 128ms/step - loss: 0.0011\n",
            "Epoch 21/100\n",
            "63/63 [==============================] - 8s 127ms/step - loss: 9.3445e-04\n",
            "Epoch 22/100\n",
            "63/63 [==============================] - 9s 138ms/step - loss: 8.3757e-04\n",
            "Epoch 23/100\n",
            "63/63 [==============================] - 8s 130ms/step - loss: 8.1550e-04\n",
            "Epoch 24/100\n",
            "63/63 [==============================] - 10s 153ms/step - loss: 8.8055e-04\n",
            "Epoch 25/100\n",
            "63/63 [==============================] - 8s 133ms/step - loss: 8.5150e-04\n",
            "Epoch 26/100\n",
            "63/63 [==============================] - 8s 126ms/step - loss: 7.0248e-04\n",
            "Epoch 27/100\n",
            "63/63 [==============================] - 8s 132ms/step - loss: 8.3202e-04\n",
            "Epoch 28/100\n",
            "63/63 [==============================] - 8s 131ms/step - loss: 7.8598e-04\n",
            "Epoch 29/100\n",
            "63/63 [==============================] - 8s 126ms/step - loss: 7.4905e-04\n",
            "Epoch 30/100\n",
            "63/63 [==============================] - 8s 127ms/step - loss: 6.2698e-04\n",
            "Epoch 31/100\n",
            "63/63 [==============================] - 8s 127ms/step - loss: 8.0076e-04\n",
            "Epoch 32/100\n",
            "63/63 [==============================] - 8s 124ms/step - loss: 7.0668e-04\n",
            "Epoch 33/100\n",
            "63/63 [==============================] - 8s 125ms/step - loss: 6.9849e-04\n",
            "Epoch 34/100\n",
            "63/63 [==============================] - 8s 121ms/step - loss: 5.7398e-04\n",
            "Epoch 35/100\n",
            "63/63 [==============================] - 8s 128ms/step - loss: 7.2416e-04\n",
            "Epoch 36/100\n",
            "63/63 [==============================] - 8s 128ms/step - loss: 6.9000e-04\n",
            "Epoch 37/100\n",
            "63/63 [==============================] - 8s 126ms/step - loss: 7.3229e-04\n",
            "Epoch 38/100\n",
            "63/63 [==============================] - 8s 124ms/step - loss: 7.0981e-04\n",
            "Epoch 39/100\n",
            "63/63 [==============================] - 8s 129ms/step - loss: 7.0571e-04\n",
            "Epoch 40/100\n",
            "63/63 [==============================] - 10s 152ms/step - loss: 6.3358e-04\n",
            "Epoch 41/100\n",
            "63/63 [==============================] - 9s 141ms/step - loss: 6.7053e-04\n",
            "Epoch 42/100\n",
            "63/63 [==============================] - 9s 138ms/step - loss: 6.7034e-04\n",
            "Epoch 43/100\n",
            "63/63 [==============================] - 8s 131ms/step - loss: 6.6648e-04\n",
            "Epoch 44/100\n",
            "63/63 [==============================] - 8s 129ms/step - loss: 6.6742e-04\n",
            "Epoch 45/100\n",
            "63/63 [==============================] - 8s 133ms/step - loss: 6.2344e-04\n",
            "Epoch 46/100\n",
            "63/63 [==============================] - 8s 127ms/step - loss: 6.9755e-04\n",
            "Epoch 47/100\n",
            "63/63 [==============================] - 8s 126ms/step - loss: 6.4458e-04\n",
            "Epoch 48/100\n",
            "63/63 [==============================] - 8s 132ms/step - loss: 5.9845e-04\n",
            "Epoch 49/100\n",
            "63/63 [==============================] - 8s 130ms/step - loss: 6.3814e-04\n",
            "Epoch 50/100\n",
            "63/63 [==============================] - 8s 125ms/step - loss: 5.9563e-04\n",
            "Epoch 51/100\n",
            "63/63 [==============================] - 8s 133ms/step - loss: 5.2449e-04\n",
            "Epoch 52/100\n",
            "63/63 [==============================] - 8s 130ms/step - loss: 5.1392e-04\n",
            "Epoch 53/100\n",
            "63/63 [==============================] - 9s 141ms/step - loss: 6.5198e-04\n",
            "Epoch 54/100\n",
            "63/63 [==============================] - 9s 142ms/step - loss: 5.7552e-04\n",
            "Epoch 55/100\n",
            "63/63 [==============================] - 9s 140ms/step - loss: 5.1369e-04\n",
            "Epoch 56/100\n",
            "63/63 [==============================] - 9s 150ms/step - loss: 5.3519e-04\n",
            "Epoch 57/100\n",
            "63/63 [==============================] - 8s 127ms/step - loss: 6.5618e-04\n",
            "Epoch 58/100\n",
            "63/63 [==============================] - 8s 134ms/step - loss: 5.1302e-04\n",
            "Epoch 59/100\n",
            "63/63 [==============================] - 9s 136ms/step - loss: 4.9720e-04\n",
            "Epoch 60/100\n",
            "63/63 [==============================] - 9s 135ms/step - loss: 6.8237e-04\n",
            "Epoch 61/100\n",
            "63/63 [==============================] - 8s 129ms/step - loss: 6.2292e-04\n",
            "Epoch 62/100\n",
            "63/63 [==============================] - 9s 139ms/step - loss: 5.2642e-04\n",
            "Epoch 63/100\n",
            "63/63 [==============================] - 9s 135ms/step - loss: 6.4110e-04\n",
            "Epoch 64/100\n",
            "63/63 [==============================] - 8s 127ms/step - loss: 5.9271e-04\n",
            "Epoch 65/100\n",
            "63/63 [==============================] - 9s 139ms/step - loss: 6.6226e-04\n",
            "Epoch 66/100\n",
            "63/63 [==============================] - 8s 124ms/step - loss: 5.8815e-04\n",
            "Epoch 67/100\n",
            "63/63 [==============================] - 9s 144ms/step - loss: 5.0771e-04\n",
            "Epoch 68/100\n",
            "63/63 [==============================] - 9s 140ms/step - loss: 5.9491e-04\n",
            "Epoch 69/100\n",
            "63/63 [==============================] - 9s 135ms/step - loss: 6.2383e-04\n",
            "Epoch 70/100\n",
            "63/63 [==============================] - 9s 136ms/step - loss: 5.7745e-04\n",
            "Epoch 71/100\n",
            "63/63 [==============================] - 10s 154ms/step - loss: 5.4305e-04\n",
            "Epoch 72/100\n",
            "63/63 [==============================] - 8s 131ms/step - loss: 5.7612e-04\n",
            "Epoch 73/100\n",
            "63/63 [==============================] - 8s 134ms/step - loss: 5.2849e-04\n",
            "Epoch 74/100\n",
            "63/63 [==============================] - 9s 139ms/step - loss: 4.8998e-04\n",
            "Epoch 75/100\n",
            "63/63 [==============================] - 9s 137ms/step - loss: 5.4146e-04\n",
            "Epoch 76/100\n",
            "63/63 [==============================] - 8s 134ms/step - loss: 5.1296e-04\n",
            "Epoch 77/100\n",
            "63/63 [==============================] - 9s 139ms/step - loss: 5.9075e-04\n",
            "Epoch 78/100\n",
            "63/63 [==============================] - 8s 126ms/step - loss: 5.6456e-04\n",
            "Epoch 79/100\n",
            "63/63 [==============================] - 8s 130ms/step - loss: 6.7416e-04\n",
            "Epoch 80/100\n",
            "63/63 [==============================] - 8s 133ms/step - loss: 4.9295e-04\n",
            "Epoch 81/100\n",
            "63/63 [==============================] - 9s 136ms/step - loss: 5.7944e-04\n",
            "Epoch 82/100\n",
            "63/63 [==============================] - 9s 138ms/step - loss: 4.8828e-04\n",
            "Epoch 83/100\n",
            "63/63 [==============================] - 9s 139ms/step - loss: 4.3119e-04\n",
            "Epoch 84/100\n",
            "63/63 [==============================] - 8s 130ms/step - loss: 5.0006e-04\n",
            "Epoch 85/100\n",
            "63/63 [==============================] - 8s 132ms/step - loss: 5.9381e-04\n",
            "Epoch 86/100\n",
            "63/63 [==============================] - 8s 131ms/step - loss: 5.8078e-04\n",
            "Epoch 87/100\n",
            "63/63 [==============================] - 9s 138ms/step - loss: 5.5706e-04\n",
            "Epoch 88/100\n",
            "63/63 [==============================] - 8s 130ms/step - loss: 6.1522e-04\n",
            "Epoch 89/100\n",
            "63/63 [==============================] - 9s 138ms/step - loss: 4.8869e-04\n",
            "Epoch 90/100\n",
            "63/63 [==============================] - 8s 129ms/step - loss: 4.3448e-04\n",
            "Epoch 91/100\n",
            "63/63 [==============================] - 8s 135ms/step - loss: 4.9734e-04\n",
            "Epoch 92/100\n",
            "63/63 [==============================] - 8s 128ms/step - loss: 5.3634e-04\n",
            "Epoch 93/100\n",
            "63/63 [==============================] - 9s 138ms/step - loss: 5.1699e-04\n",
            "Epoch 94/100\n",
            "63/63 [==============================] - 8s 133ms/step - loss: 5.3903e-04\n",
            "Epoch 95/100\n",
            "63/63 [==============================] - 8s 129ms/step - loss: 5.1944e-04\n",
            "Epoch 96/100\n",
            "63/63 [==============================] - 9s 135ms/step - loss: 5.3151e-04\n",
            "Epoch 97/100\n",
            "63/63 [==============================] - 9s 139ms/step - loss: 5.5794e-04\n",
            "Epoch 98/100\n",
            "63/63 [==============================] - 9s 138ms/step - loss: 6.4173e-04\n",
            "Epoch 99/100\n",
            "63/63 [==============================] - 8s 129ms/step - loss: 5.6187e-04\n",
            "Epoch 100/100\n",
            "63/63 [==============================] - 8s 130ms/step - loss: 5.3366e-04\n"
          ]
        },
        {
          "output_type": "execute_result",
          "data": {
            "text/plain": [
              "<keras.callbacks.History at 0x7f0307a35100>"
            ]
          },
          "metadata": {},
          "execution_count": 32
        }
      ],
      "source": [
        "reg.compile(optimizer='adam', loss= 'mean_squared_error')\n",
        "reg.fit(X_train,Y_train, epochs= 100, batch_size=35)"
      ]
    },
    {
      "cell_type": "code",
      "execution_count": 35,
      "metadata": {
        "colab": {
          "base_uri": "https://localhost:8080/",
          "height": 204
        },
        "id": "_1l3T8c2C9eq",
        "outputId": "f0c5c754-0cc6-4091-d32f-2e4edac15ff0"
      },
      "outputs": [
        {
          "output_type": "execute_result",
          "data": {
            "text/plain": [
              "         Date        Open        High         Low       Close   Adj Close  \\\n",
              "0  2021-01-04  133.520004  133.610001  126.760002  129.410004  127.874954   \n",
              "1  2021-01-05  128.889999  131.740005  128.429993  131.009995  129.455963   \n",
              "2  2021-01-06  127.720001  131.050003  126.379997  126.599998  125.098267   \n",
              "3  2021-01-07  128.360001  131.630005  127.860001  130.919998  129.367035   \n",
              "4  2021-01-08  132.429993  132.630005  130.229996  132.050003  130.483627   \n",
              "\n",
              "      Volume  \n",
              "0  143301900  \n",
              "1   97664900  \n",
              "2  155088000  \n",
              "3  109578200  \n",
              "4  105158200  "
            ],
            "text/html": [
              "\n",
              "  <div id=\"df-4ae4c521-6ff1-4f1c-9e86-328a363d31dc\">\n",
              "    <div class=\"colab-df-container\">\n",
              "      <div>\n",
              "<style scoped>\n",
              "    .dataframe tbody tr th:only-of-type {\n",
              "        vertical-align: middle;\n",
              "    }\n",
              "\n",
              "    .dataframe tbody tr th {\n",
              "        vertical-align: top;\n",
              "    }\n",
              "\n",
              "    .dataframe thead th {\n",
              "        text-align: right;\n",
              "    }\n",
              "</style>\n",
              "<table border=\"1\" class=\"dataframe\">\n",
              "  <thead>\n",
              "    <tr style=\"text-align: right;\">\n",
              "      <th></th>\n",
              "      <th>Date</th>\n",
              "      <th>Open</th>\n",
              "      <th>High</th>\n",
              "      <th>Low</th>\n",
              "      <th>Close</th>\n",
              "      <th>Adj Close</th>\n",
              "      <th>Volume</th>\n",
              "    </tr>\n",
              "  </thead>\n",
              "  <tbody>\n",
              "    <tr>\n",
              "      <th>0</th>\n",
              "      <td>2021-01-04</td>\n",
              "      <td>133.520004</td>\n",
              "      <td>133.610001</td>\n",
              "      <td>126.760002</td>\n",
              "      <td>129.410004</td>\n",
              "      <td>127.874954</td>\n",
              "      <td>143301900</td>\n",
              "    </tr>\n",
              "    <tr>\n",
              "      <th>1</th>\n",
              "      <td>2021-01-05</td>\n",
              "      <td>128.889999</td>\n",
              "      <td>131.740005</td>\n",
              "      <td>128.429993</td>\n",
              "      <td>131.009995</td>\n",
              "      <td>129.455963</td>\n",
              "      <td>97664900</td>\n",
              "    </tr>\n",
              "    <tr>\n",
              "      <th>2</th>\n",
              "      <td>2021-01-06</td>\n",
              "      <td>127.720001</td>\n",
              "      <td>131.050003</td>\n",
              "      <td>126.379997</td>\n",
              "      <td>126.599998</td>\n",
              "      <td>125.098267</td>\n",
              "      <td>155088000</td>\n",
              "    </tr>\n",
              "    <tr>\n",
              "      <th>3</th>\n",
              "      <td>2021-01-07</td>\n",
              "      <td>128.360001</td>\n",
              "      <td>131.630005</td>\n",
              "      <td>127.860001</td>\n",
              "      <td>130.919998</td>\n",
              "      <td>129.367035</td>\n",
              "      <td>109578200</td>\n",
              "    </tr>\n",
              "    <tr>\n",
              "      <th>4</th>\n",
              "      <td>2021-01-08</td>\n",
              "      <td>132.429993</td>\n",
              "      <td>132.630005</td>\n",
              "      <td>130.229996</td>\n",
              "      <td>132.050003</td>\n",
              "      <td>130.483627</td>\n",
              "      <td>105158200</td>\n",
              "    </tr>\n",
              "  </tbody>\n",
              "</table>\n",
              "</div>\n",
              "      <button class=\"colab-df-convert\" onclick=\"convertToInteractive('df-4ae4c521-6ff1-4f1c-9e86-328a363d31dc')\"\n",
              "              title=\"Convert this dataframe to an interactive table.\"\n",
              "              style=\"display:none;\">\n",
              "        \n",
              "  <svg xmlns=\"http://www.w3.org/2000/svg\" height=\"24px\"viewBox=\"0 0 24 24\"\n",
              "       width=\"24px\">\n",
              "    <path d=\"M0 0h24v24H0V0z\" fill=\"none\"/>\n",
              "    <path d=\"M18.56 5.44l.94 2.06.94-2.06 2.06-.94-2.06-.94-.94-2.06-.94 2.06-2.06.94zm-11 1L8.5 8.5l.94-2.06 2.06-.94-2.06-.94L8.5 2.5l-.94 2.06-2.06.94zm10 10l.94 2.06.94-2.06 2.06-.94-2.06-.94-.94-2.06-.94 2.06-2.06.94z\"/><path d=\"M17.41 7.96l-1.37-1.37c-.4-.4-.92-.59-1.43-.59-.52 0-1.04.2-1.43.59L10.3 9.45l-7.72 7.72c-.78.78-.78 2.05 0 2.83L4 21.41c.39.39.9.59 1.41.59.51 0 1.02-.2 1.41-.59l7.78-7.78 2.81-2.81c.8-.78.8-2.07 0-2.86zM5.41 20L4 18.59l7.72-7.72 1.47 1.35L5.41 20z\"/>\n",
              "  </svg>\n",
              "      </button>\n",
              "      \n",
              "  <style>\n",
              "    .colab-df-container {\n",
              "      display:flex;\n",
              "      flex-wrap:wrap;\n",
              "      gap: 12px;\n",
              "    }\n",
              "\n",
              "    .colab-df-convert {\n",
              "      background-color: #E8F0FE;\n",
              "      border: none;\n",
              "      border-radius: 50%;\n",
              "      cursor: pointer;\n",
              "      display: none;\n",
              "      fill: #1967D2;\n",
              "      height: 32px;\n",
              "      padding: 0 0 0 0;\n",
              "      width: 32px;\n",
              "    }\n",
              "\n",
              "    .colab-df-convert:hover {\n",
              "      background-color: #E2EBFA;\n",
              "      box-shadow: 0px 1px 2px rgba(60, 64, 67, 0.3), 0px 1px 3px 1px rgba(60, 64, 67, 0.15);\n",
              "      fill: #174EA6;\n",
              "    }\n",
              "\n",
              "    [theme=dark] .colab-df-convert {\n",
              "      background-color: #3B4455;\n",
              "      fill: #D2E3FC;\n",
              "    }\n",
              "\n",
              "    [theme=dark] .colab-df-convert:hover {\n",
              "      background-color: #434B5C;\n",
              "      box-shadow: 0px 1px 3px 1px rgba(0, 0, 0, 0.15);\n",
              "      filter: drop-shadow(0px 1px 2px rgba(0, 0, 0, 0.3));\n",
              "      fill: #FFFFFF;\n",
              "    }\n",
              "  </style>\n",
              "\n",
              "      <script>\n",
              "        const buttonEl =\n",
              "          document.querySelector('#df-4ae4c521-6ff1-4f1c-9e86-328a363d31dc button.colab-df-convert');\n",
              "        buttonEl.style.display =\n",
              "          google.colab.kernel.accessAllowed ? 'block' : 'none';\n",
              "\n",
              "        async function convertToInteractive(key) {\n",
              "          const element = document.querySelector('#df-4ae4c521-6ff1-4f1c-9e86-328a363d31dc');\n",
              "          const dataTable =\n",
              "            await google.colab.kernel.invokeFunction('convertToInteractive',\n",
              "                                                     [key], {});\n",
              "          if (!dataTable) return;\n",
              "\n",
              "          const docLinkHtml = 'Like what you see? Visit the ' +\n",
              "            '<a target=\"_blank\" href=https://colab.research.google.com/notebooks/data_table.ipynb>data table notebook</a>'\n",
              "            + ' to learn more about interactive tables.';\n",
              "          element.innerHTML = '';\n",
              "          dataTable['output_type'] = 'display_data';\n",
              "          await google.colab.output.renderOutput(dataTable, element);\n",
              "          const docLink = document.createElement('div');\n",
              "          docLink.innerHTML = docLinkHtml;\n",
              "          element.appendChild(docLink);\n",
              "        }\n",
              "      </script>\n",
              "    </div>\n",
              "  </div>\n",
              "  "
            ]
          },
          "metadata": {},
          "execution_count": 35
        }
      ],
      "source": [
        "#Actual stock prices\n",
        "\n",
        "\n",
        "\n",
        "Apple_test=pd.read_csv(\"Apple_test_dataset.csv\")\n",
        "Apple_test.head()\n",
        "\n"
      ]
    },
    {
      "cell_type": "code",
      "execution_count": 36,
      "metadata": {
        "colab": {
          "base_uri": "https://localhost:8080/"
        },
        "id": "eiCEUOCYC9eq",
        "outputId": "65f49f0c-18cd-4730-c79c-eaea2b38ad65"
      },
      "outputs": [
        {
          "output_type": "stream",
          "name": "stdout",
          "text": [
            "<class 'pandas.core.frame.DataFrame'>\n",
            "RangeIndex: 488 entries, 0 to 487\n",
            "Data columns (total 7 columns):\n",
            " #   Column     Non-Null Count  Dtype  \n",
            "---  ------     --------------  -----  \n",
            " 0   Date       488 non-null    object \n",
            " 1   Open       488 non-null    float64\n",
            " 2   High       488 non-null    float64\n",
            " 3   Low        488 non-null    float64\n",
            " 4   Close      488 non-null    float64\n",
            " 5   Adj Close  488 non-null    float64\n",
            " 6   Volume     488 non-null    int64  \n",
            "dtypes: float64(5), int64(1), object(1)\n",
            "memory usage: 26.8+ KB\n"
          ]
        }
      ],
      "source": [
        "Apple_test.info()\n",
        "actual_price=Apple_test.iloc[:,4:5].values\n"
      ]
    },
    {
      "cell_type": "code",
      "execution_count": 37,
      "metadata": {
        "id": "0rIPQ0SRC9eq"
      },
      "outputs": [],
      "source": [
        "total_dataset=pd.concat((Apple_train['Close'],Apple_test['Close']),axis= 0)\n",
        "inp=total_dataset[len(total_dataset)-len(Apple_test)-60:].values\n",
        "\n",
        "inp=inp.reshape(-1,1)\n",
        "inp=scaler.transform(inp)\n",
        "\n",
        "X_test=[]\n",
        "for i in range(60,548):\n",
        "  X_test.append(inp[i-60:i,0])\n",
        "X_test=np.array(X_test)\n",
        "X_test=np.reshape(X_test,(X_test.shape[0],X_test.shape[1],1))\n",
        "\n",
        "\n"
      ]
    },
    {
      "cell_type": "code",
      "execution_count": 38,
      "metadata": {
        "colab": {
          "base_uri": "https://localhost:8080/"
        },
        "id": "q4W_AO08C9er",
        "outputId": "91b3431d-cbcc-4f5c-b3cc-c37fd6d35983"
      },
      "outputs": [
        {
          "output_type": "stream",
          "name": "stdout",
          "text": [
            "16/16 [==============================] - 2s 31ms/step\n"
          ]
        }
      ],
      "source": [
        "pred_stock_price=reg.predict(X_test)\n",
        "pred_stock_price=scaler.inverse_transform(pred_stock_price)"
      ]
    },
    {
      "cell_type": "code",
      "execution_count": 43,
      "metadata": {
        "colab": {
          "base_uri": "https://localhost:8080/",
          "height": 312
        },
        "id": "IUJWRxxyC9er",
        "outputId": "05b29513-194d-48e9-f6b6-70a853a9a070"
      },
      "outputs": [
        {
          "output_type": "execute_result",
          "data": {
            "text/plain": [
              "<matplotlib.legend.Legend at 0x7f0303f7a880>"
            ]
          },
          "metadata": {},
          "execution_count": 43
        },
        {
          "output_type": "display_data",
          "data": {
            "text/plain": [
              "<Figure size 432x288 with 1 Axes>"
            ],
            "image/png": "[encoded data removed]"
          },
          "metadata": {
            "needs_background": "light"
          }
        }
      ],
      "source": [
        "plt.plot(actual_price,color='red',label= 'Actual Stock Price of Apple')\n",
        "plt.plot(pred_stock_price, color= 'blue', label = 'Predicted Stock price of Apple')\n",
        "plt.title( \"Stock price prediction of Apple\")\n",
        "plt.xlabel('Time')\n",
        "plt.ylabel('Stock Price of Apple')\n",
        "plt.legend()\n"
      ]
    },
    {
      "cell_type": "code",
      "execution_count": null,
      "metadata": {
        "id": "Xp__91OCC9er"
      },
      "outputs": [],
      "source": []
    },
    {
      "cell_type": "code",
      "execution_count": null,
      "metadata": {
        "id": "t8hfE8IiC9er"
      },
      "outputs": [],
      "source": []
    }
  ],
  "metadata": {
    "kernelspec": {
      "display_name": "Python 3.11.0 64-bit",
      "language": "python",
      "name": "python3"
    },
    "language_info": {
      "codemirror_mode": {
        "name": "ipython",
        "version": 3
      },
      "file_extension": ".py",
      "mimetype": "text/x-python",
      "name": "python",
      "nbconvert_exporter": "python",
      "pygments_lexer": "ipython3",
      "version": "3.11.0"
    },
    "orig_nbformat": 4,
    "vscode": {
      "interpreter": {
        "hash": "aee8b7b246df8f9039afb4144a1f6fd8d2ca17a180786b69acc140d282b71a49"
      }
    },
    "colab": {
      "provenance": []
    }
  },
  "nbformat": 4,
  "nbformat_minor": 0
}